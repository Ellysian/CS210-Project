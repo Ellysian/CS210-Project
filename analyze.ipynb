{
 "cells": [
  {
   "cell_type": "code",
   "execution_count": 5,
   "metadata": {},
   "outputs": [],
   "source": [
    "import json\n",
    "\n",
    "# Replace 'your_input_file.json' and 'your_output_file.jsonl' with the actual paths\n",
    "input_file_path = 'conversations.json'\n",
    "output_file_path = 'conversations.jsonl'\n",
    "\n",
    "def convert_to_json_lines(input_file, output_file):\n",
    "    try:\n",
    "        with open(input_file, 'r') as infile, open(output_file, 'w') as outfile:\n",
    "            json_data = json.load(infile)\n",
    "            for line in json_data:\n",
    "                json_line = json.dumps(line)\n",
    "                outfile.write(json_line + '\\n')\n",
    "    except FileNotFoundError:\n",
    "        print(f\"The file '{input_file}' was not found.\")\n",
    "    except json.JSONDecodeError as e:\n",
    "        print(f\"Error decoding JSON: {e}\")\n",
    "\n",
    "convert_to_json_lines(input_file_path, output_file_path)\n"
   ]
  },
  {
   "cell_type": "code",
   "execution_count": 10,
   "metadata": {},
   "outputs": [],
   "source": [
    "import jsonlines\n",
    "\n",
    "# Specify the path to the input jsonl file\n",
    "input_file = 'conversations.jsonl'\n",
    "\n",
    "# Specify the path to the output jsonl file\n",
    "output_file = 'conversations_empty.jsonl'\n",
    "\n",
    "# Open the input and output files\n",
    "with jsonlines.open(input_file) as reader, jsonlines.open(output_file, mode='w') as writer:\n",
    "    # Iterate over each entry in the input file\n",
    "    for entry in reader:\n",
    "        # Iterate over each message in the mapping\n",
    "        for message_id, message in entry['mapping'].items():\n",
    "            # Check if the message field is not None\n",
    "            if message['message'] is not None:\n",
    "                # Delete the content of the message\n",
    "                message['message']['content']['parts'] = []\n",
    "        \n",
    "        # Write the modified entry to the output file\n",
    "        writer.write(entry)"
   ]
  },
  {
   "cell_type": "code",
   "execution_count": null,
   "metadata": {},
   "outputs": [],
   "source": []
  }
 ],
 "metadata": {
  "kernelspec": {
   "display_name": "Python 3",
   "language": "python",
   "name": "python3"
  },
  "language_info": {
   "codemirror_mode": {
    "name": "ipython",
    "version": 3
   },
   "file_extension": ".py",
   "mimetype": "text/x-python",
   "name": "python",
   "nbconvert_exporter": "python",
   "pygments_lexer": "ipython3",
   "version": "3.11.7"
  }
 },
 "nbformat": 4,
 "nbformat_minor": 2
}
